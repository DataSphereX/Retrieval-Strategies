{
 "cells": [
  {
   "cell_type": "markdown",
   "metadata": {},
   "source": [
    "#### Install the necessary libraries:"
   ]
  },
  {
   "cell_type": "code",
   "execution_count": null,
   "metadata": {},
   "outputs": [],
   "source": [
    "%pip install transformers torch"
   ]
  },
  {
   "cell_type": "markdown",
   "metadata": {},
   "source": [
    "#### Load a pre-trained BERT model and tokenizer:"
   ]
  },
  {
   "cell_type": "code",
   "execution_count": 2,
   "metadata": {},
   "outputs": [
    {
     "name": "stderr",
     "output_type": "stream",
     "text": [
      "c:\\Users\\sarve\\OneDrive\\Desktop\\LI\\Carosals\\Retrieval\\venv\\Lib\\site-packages\\tqdm\\auto.py:21: TqdmWarning: IProgress not found. Please update jupyter and ipywidgets. See https://ipywidgets.readthedocs.io/en/stable/user_install.html\n",
      "  from .autonotebook import tqdm as notebook_tqdm\n"
     ]
    }
   ],
   "source": [
    "from transformers import BertTokenizer, BertModel\n",
    "import torch\n",
    "\n",
    "# Load pre-trained model and tokenizer\n",
    "tokenizer = BertTokenizer.from_pretrained('bert-base-uncased')\n",
    "model = BertModel.from_pretrained('bert-base-uncased')"
   ]
  },
  {
   "cell_type": "markdown",
   "metadata": {},
   "source": [
    "#### Encode the query and documents:"
   ]
  },
  {
   "cell_type": "code",
   "execution_count": 3,
   "metadata": {},
   "outputs": [],
   "source": [
    "def encode(text, tokenizer, model):\n",
    "    inputs = tokenizer(text, return_tensors='pt', truncation=True, padding=True)\n",
    "    with torch.no_grad():\n",
    "        outputs = model(**inputs)\n",
    "    return outputs.last_hidden_state.mean(dim=1).squeeze()\n",
    "\n",
    "query = \"What is dense retrieval?\"\n",
    "documents = [\n",
    "    \"Dense retrieval uses dense vector representations.\",\n",
    "    \"Sparse retrieval uses term-based representations.\",\n",
    "    \"BERT is a transformer model.\"\n",
    "]\n",
    "\n",
    "query_vector = encode(query, tokenizer, model)\n",
    "document_vectors = [encode(doc, tokenizer, model) for doc in documents]"
   ]
  },
  {
   "cell_type": "markdown",
   "metadata": {},
   "source": [
    "#### Compute similarity scores:"
   ]
  },
  {
   "cell_type": "code",
   "execution_count": 4,
   "metadata": {},
   "outputs": [],
   "source": [
    "from sklearn.metrics.pairwise import cosine_similarity\n",
    "\n",
    "def get_similarity(query_vector, document_vectors):\n",
    "    similarities = cosine_similarity([query_vector], document_vectors)\n",
    "    return similarities[0]\n",
    "\n",
    "similarities = get_similarity(query_vector, document_vectors)"
   ]
  },
  {
   "cell_type": "markdown",
   "metadata": {},
   "source": [
    "#### Retrieve the most relevant document:"
   ]
  },
  {
   "cell_type": "code",
   "execution_count": 5,
   "metadata": {},
   "outputs": [
    {
     "name": "stdout",
     "output_type": "stream",
     "text": [
      "Query: What is dense retrieval?\n",
      "Most relevant document: Dense retrieval uses dense vector representations.\n"
     ]
    }
   ],
   "source": [
    "most_relevant_doc_index = similarities.argmax()\n",
    "most_relevant_doc = documents[most_relevant_doc_index]\n",
    "\n",
    "print(f\"Query: {query}\")\n",
    "print(f\"Most relevant document: {most_relevant_doc}\")"
   ]
  },
  {
   "cell_type": "markdown",
   "metadata": {},
   "source": [
    "#### Using Ollama"
   ]
  },
  {
   "cell_type": "code",
   "execution_count": 7,
   "metadata": {},
   "outputs": [],
   "source": [
    "import ollama"
   ]
  },
  {
   "cell_type": "markdown",
   "metadata": {},
   "source": [
    "#### Encode the query and documents using DeepSeek R1 embeddings:"
   ]
  },
  {
   "cell_type": "code",
   "execution_count": 16,
   "metadata": {},
   "outputs": [],
   "source": [
    "def get_embedding(text):\n",
    "    response = ollama.embeddings(\n",
    "        model=\"deepseek-r1:1.5b\",\n",
    "        prompt = query)\n",
    "    # Extract the embedding from the response\n",
    "    return response['embedding']\n",
    "\n",
    "query = \"What is dense retrieval?\"\n",
    "documents = [\n",
    "    \"Dense retrieval uses dense vector representations.\",\n",
    "    \"Sparse retrieval uses term-based representations.\",\n",
    "    \"BERT is a transformer model.\"\n",
    "]\n",
    "\n",
    "query_vector = get_embedding(query)\n",
    "document_vectors = [get_embedding(doc) for doc in documents]"
   ]
  },
  {
   "cell_type": "markdown",
   "metadata": {},
   "source": [
    "#### Compute similarity scores:"
   ]
  },
  {
   "cell_type": "code",
   "execution_count": 17,
   "metadata": {},
   "outputs": [],
   "source": [
    "from sklearn.metrics.pairwise import cosine_similarity\n",
    "\n",
    "def get_similarity(query_vector, document_vectors):\n",
    "    similarities = cosine_similarity([query_vector], document_vectors)\n",
    "    return similarities[0]\n",
    "\n",
    "similarities = get_similarity(query_vector, document_vectors)"
   ]
  },
  {
   "cell_type": "markdown",
   "metadata": {},
   "source": [
    "#### Retrieve the most relevant document:"
   ]
  },
  {
   "cell_type": "code",
   "execution_count": 18,
   "metadata": {},
   "outputs": [
    {
     "name": "stdout",
     "output_type": "stream",
     "text": [
      "Query: What is dense retrieval?\n",
      "Most relevant document: BERT is a transformer model.\n"
     ]
    }
   ],
   "source": [
    "most_relevant_doc_index = similarities.argmax()\n",
    "most_relevant_doc = documents[most_relevant_doc_index]\n",
    "\n",
    "print(f\"Query: {query}\")\n",
    "print(f\"Most relevant document: {most_relevant_doc}\")"
   ]
  }
 ],
 "metadata": {
  "kernelspec": {
   "display_name": "venv",
   "language": "python",
   "name": "python3"
  },
  "language_info": {
   "codemirror_mode": {
    "name": "ipython",
    "version": 3
   },
   "file_extension": ".py",
   "mimetype": "text/x-python",
   "name": "python",
   "nbconvert_exporter": "python",
   "pygments_lexer": "ipython3",
   "version": "3.11.5"
  }
 },
 "nbformat": 4,
 "nbformat_minor": 2
}
