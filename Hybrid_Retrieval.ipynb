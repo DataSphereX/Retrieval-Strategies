{
 "cells": [
  {
   "cell_type": "code",
   "execution_count": 5,
   "metadata": {},
   "outputs": [
    {
     "name": "stderr",
     "output_type": "stream",
     "text": [
      "c:\\Users\\sarve\\OneDrive\\Desktop\\LI\\Carosals\\Retrieval\\venv\\Lib\\site-packages\\tqdm\\auto.py:21: TqdmWarning: IProgress not found. Please update jupyter and ipywidgets. See https://ipywidgets.readthedocs.io/en/stable/user_install.html\n",
      "  from .autonotebook import tqdm as notebook_tqdm\n"
     ]
    }
   ],
   "source": [
    "from whoosh.index import create_in\n",
    "from whoosh.fields import Schema, TEXT\n",
    "from whoosh.qparser import QueryParser\n",
    "from sentence_transformers import SentenceTransformer\n",
    "import faiss\n",
    "import numpy as np\n",
    "import os"
   ]
  },
  {
   "cell_type": "code",
   "execution_count": 6,
   "metadata": {},
   "outputs": [],
   "source": [
    "# Sample documents\n",
    "documents = [\n",
    "    \"Artificial Intelligence is transforming the world.\",\n",
    "    \"Machine Learning and Deep Learning are subsets of AI.\",\n",
    "    \"Natural Language Processing helps computers understand human language.\",\n",
    "    \"Hybrid search combines keyword and vector search for better accuracy.\"\n",
    "]"
   ]
  },
  {
   "cell_type": "code",
   "execution_count": 7,
   "metadata": {},
   "outputs": [],
   "source": [
    "# ========== Sparse Retrieval (BM25 with Whoosh) ==========\n",
    "def create_bm25_index(documents):\n",
    "    schema = Schema(content=TEXT(stored=True))\n",
    "    if not os.path.exists(\"indexdir\"):\n",
    "        os.mkdir(\"indexdir\")\n",
    "    ix = create_in(\"indexdir\", schema)\n",
    "    \n",
    "    writer = ix.writer()\n",
    "    for doc in documents:\n",
    "        writer.add_document(content=doc)\n",
    "    writer.commit()\n",
    "    return ix\n",
    "\n",
    "def search_bm25(ix, query_text, top_k=3):\n",
    "    with ix.searcher() as searcher:\n",
    "        query = QueryParser(\"content\", ix.schema).parse(query_text)\n",
    "        results = searcher.search(query, limit=top_k)\n",
    "        return [(res[\"content\"], res.score) for res in results]"
   ]
  },
  {
   "cell_type": "code",
   "execution_count": 8,
   "metadata": {},
   "outputs": [
    {
     "name": "stderr",
     "output_type": "stream",
     "text": [
      "c:\\Users\\sarve\\OneDrive\\Desktop\\LI\\Carosals\\Retrieval\\venv\\Lib\\site-packages\\huggingface_hub\\file_download.py:140: UserWarning: `huggingface_hub` cache-system uses symlinks by default to efficiently store duplicated files but your machine does not support them in C:\\Users\\sarve\\.cache\\huggingface\\hub\\models--sentence-transformers--all-MiniLM-L6-v2. Caching files will still work but in a degraded version that might require more space on your disk. This warning can be disabled by setting the `HF_HUB_DISABLE_SYMLINKS_WARNING` environment variable. For more details, see https://huggingface.co/docs/huggingface_hub/how-to-cache#limitations.\n",
      "To support symlinks on Windows, you either need to activate Developer Mode or to run Python as an administrator. In order to activate developer mode, see this article: https://docs.microsoft.com/en-us/windows/apps/get-started/enable-your-device-for-development\n",
      "  warnings.warn(message)\n"
     ]
    }
   ],
   "source": [
    "# ========== Dense Retrieval (FAISS with Embeddings) ==========\n",
    "model = SentenceTransformer(\"all-MiniLM-L6-v2\")  # Embedding model\n",
    "\n",
    "# Encode documents into embeddings\n",
    "doc_embeddings = model.encode(documents, convert_to_numpy=True)\n",
    "\n",
    "# Create FAISS index\n",
    "dimension = doc_embeddings.shape[1]\n",
    "index = faiss.IndexFlatL2(dimension)\n",
    "index.add(doc_embeddings)\n",
    "\n",
    "def search_dense(query_text, top_k=3):\n",
    "    query_embedding = model.encode([query_text], convert_to_numpy=True)\n",
    "    distances, indices = index.search(query_embedding, top_k)\n",
    "    return [(documents[i], 1 / (1 + distances[0][j])) for j, i in enumerate(indices[0])]  # Convert L2 to similarity score\n",
    "\n",
    "# ========== Hybrid Retrieval (Combining Sparse + Dense) ==========\n",
    "def hybrid_search(query_text, top_k=3, alpha=0.5):\n",
    "    bm25_results = search_bm25(ix, query_text, top_k)\n",
    "    dense_results = search_dense(query_text, top_k)\n",
    "\n",
    "    # Normalize scores\n",
    "    bm25_dict = {doc: score for doc, score in bm25_results}\n",
    "    dense_dict = {doc: score for doc, score in dense_results}\n",
    "    \n",
    "    # Combine scores using weighted sum\n",
    "    hybrid_scores = {}\n",
    "    for doc in set(bm25_dict.keys()).union(dense_dict.keys()):\n",
    "        hybrid_scores[doc] = alpha * bm25_dict.get(doc, 0) + (1 - alpha) * dense_dict.get(doc, 0)\n",
    "    \n",
    "    # Sort by combined score\n",
    "    return sorted(hybrid_scores.items(), key=lambda x: x[1], reverse=True)[:top_k]\n"
   ]
  },
  {
   "cell_type": "code",
   "execution_count": 9,
   "metadata": {},
   "outputs": [
    {
     "name": "stdout",
     "output_type": "stream",
     "text": [
      "\n",
      "🔍 BM25 Results: [('Machine Learning and Deep Learning are subsets of AI.', 5.875876565338681)]\n",
      "\n",
      "🤖 Dense Results: [('Machine Learning and Deep Learning are subsets of AI.', np.float32(0.649146)), ('Artificial Intelligence is transforming the world.', np.float32(0.49773413)), ('Natural Language Processing helps computers understand human language.', np.float32(0.4177809))]\n",
      "\n",
      "🔥 Hybrid Results: [('Machine Learning and Deep Learning are subsets of AI.', np.float32(3.2625113)), ('Artificial Intelligence is transforming the world.', np.float32(0.24886706)), ('Natural Language Processing helps computers understand human language.', np.float32(0.20889045))]\n"
     ]
    }
   ],
   "source": [
    "# ========== Running the Hybrid Search ==========\n",
    "query = \"AI and Deep Learning\"\n",
    "ix = create_bm25_index(documents)\n",
    "\n",
    "bm25_results = search_bm25(ix, query)\n",
    "dense_results = search_dense(query)\n",
    "hybrid_results = hybrid_search(query)\n",
    "\n"
   ]
  },
  {
   "cell_type": "code",
   "execution_count": 11,
   "metadata": {},
   "outputs": [
    {
     "data": {
      "text/plain": [
       "[('Machine Learning and Deep Learning are subsets of AI.', 5.875876565338681)]"
      ]
     },
     "execution_count": 11,
     "metadata": {},
     "output_type": "execute_result"
    }
   ],
   "source": [
    "bm25_results"
   ]
  },
  {
   "cell_type": "code",
   "execution_count": 12,
   "metadata": {},
   "outputs": [
    {
     "data": {
      "text/plain": [
       "[('Machine Learning and Deep Learning are subsets of AI.',\n",
       "  np.float32(0.649146)),\n",
       " ('Artificial Intelligence is transforming the world.',\n",
       "  np.float32(0.49773413)),\n",
       " ('Natural Language Processing helps computers understand human language.',\n",
       "  np.float32(0.4177809))]"
      ]
     },
     "execution_count": 12,
     "metadata": {},
     "output_type": "execute_result"
    }
   ],
   "source": [
    "dense_results"
   ]
  },
  {
   "cell_type": "code",
   "execution_count": 13,
   "metadata": {},
   "outputs": [
    {
     "data": {
      "text/plain": [
       "[('Machine Learning and Deep Learning are subsets of AI.',\n",
       "  np.float32(3.2625113)),\n",
       " ('Artificial Intelligence is transforming the world.',\n",
       "  np.float32(0.24886706)),\n",
       " ('Natural Language Processing helps computers understand human language.',\n",
       "  np.float32(0.20889045))]"
      ]
     },
     "execution_count": 13,
     "metadata": {},
     "output_type": "execute_result"
    }
   ],
   "source": [
    "hybrid_results"
   ]
  },
  {
   "cell_type": "code",
   "execution_count": 10,
   "metadata": {},
   "outputs": [
    {
     "name": "stdout",
     "output_type": "stream",
     "text": [
      "\n",
      "🔍 BM25 Results: [('Machine Learning and Deep Learning are subsets of AI.', 5.875876565338681)]\n",
      "\n",
      "🤖 Dense Results: [('Machine Learning and Deep Learning are subsets of AI.', np.float32(0.649146)), ('Artificial Intelligence is transforming the world.', np.float32(0.49773413)), ('Natural Language Processing helps computers understand human language.', np.float32(0.4177809))]\n",
      "\n",
      "🔥 Hybrid Results: [('Machine Learning and Deep Learning are subsets of AI.', np.float32(3.2625113)), ('Artificial Intelligence is transforming the world.', np.float32(0.24886706)), ('Natural Language Processing helps computers understand human language.', np.float32(0.20889045))]\n"
     ]
    }
   ],
   "source": [
    "print(\"\\n🔍 BM25 Results:\", bm25_results)\n",
    "print(\"\\n🤖 Dense Results:\", dense_results)\n",
    "print(\"\\n🔥 Hybrid Results:\", hybrid_results)"
   ]
  }
 ],
 "metadata": {
  "kernelspec": {
   "display_name": "venv",
   "language": "python",
   "name": "python3"
  },
  "language_info": {
   "codemirror_mode": {
    "name": "ipython",
    "version": 3
   },
   "file_extension": ".py",
   "mimetype": "text/x-python",
   "name": "python",
   "nbconvert_exporter": "python",
   "pygments_lexer": "ipython3",
   "version": "3.11.5"
  }
 },
 "nbformat": 4,
 "nbformat_minor": 2
}
